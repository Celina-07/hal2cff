{
 "cells": [
  {
   "cell_type": "code",
   "execution_count": 7,
   "id": "d085b66c-9cc3-4913-bbb7-c01f5c62c768",
   "metadata": {},
   "outputs": [],
   "source": [
    "import ipywidgets as widgets"
   ]
  },
  {
   "cell_type": "code",
   "execution_count": 28,
   "id": "97d3fe0c-05a3-4f5c-9040-f982d26842b9",
   "metadata": {},
   "outputs": [],
   "source": [
    "from IPython.display import display, display_html, Markdown"
   ]
  },
  {
   "cell_type": "code",
   "execution_count": 31,
   "id": "aaf20c64-5fd6-4760-b002-48e2440e0612",
   "metadata": {},
   "outputs": [],
   "source": [
    "from hal2cff import hal2cff"
   ]
  },
  {
   "cell_type": "code",
   "execution_count": 41,
   "id": "7b815997-2e99-4daf-a84f-6f2669ebc841",
   "metadata": {},
   "outputs": [
    {
     "data": {
      "application/vnd.jupyter.widget-view+json": {
       "model_id": "713489ad366240709e29420aae8135fd",
       "version_major": 2,
       "version_minor": 0
      },
      "text/plain": [
       "HBox(children=(Textarea(value='https://hal.archives-ouvertes.fr/hal-01361430v1', description='HAL url', placeh…"
      ]
     },
     "metadata": {},
     "output_type": "display_data"
    },
    {
     "data": {
      "application/vnd.jupyter.widget-view+json": {
       "model_id": "b390b5f206fa4952bfa06532d594b342",
       "version_major": 2,
       "version_minor": 0
      },
      "text/plain": [
       "Output()"
      ]
     },
     "metadata": {},
     "output_type": "display_data"
    }
   ],
   "source": [
    "url = widgets.Textarea(value=\"https://hal.archives-ouvertes.fr/hal-01361430v1\",placeholder=\"Type you HAL url\",description =\"HAL url\")\n",
    "button = button = widgets.Button(\n",
    "    description='Search',\n",
    "    disabled=False,\n",
    "    button_style='', # 'success', 'info', 'warning', 'danger' or ''\n",
    "    icon='check' # (FontAwesome names without the `fa-` prefix)\n",
    ")\n",
    "progress_bar = widgets.FloatProgress(\n",
    "    value=0,\n",
    "    min=0,\n",
    "    max=10.0,\n",
    "    description='Loading:',\n",
    "    bar_style='info',\n",
    "    style={'bar_color': '#ffff00'},\n",
    "    orientation='horizontal',\n",
    "    layout=widgets.Layout(visibility=\"hidden\")\n",
    ")\n",
    "\n",
    "display(widgets.HBox([url, button, progress_bar]))\n",
    "output = widgets.Output()\n",
    "display(output)"
   ]
  },
  {
   "cell_type": "code",
   "execution_count": 50,
   "id": "85fe76d3-8b8c-4ed5-b932-d7d9e7c6cc4b",
   "metadata": {},
   "outputs": [],
   "source": [
    "def generate_cff(_):\n",
    "    with output:\n",
    "        output.clear_output()\n",
    "        progress_bar.layout = widgets.Layout(visibility=\"visible\")\n",
    "        try:\n",
    "            result = hal2cff(url.value)\n",
    "            result_pre = f\"<pre>{result}</pre>\"\n",
    "            display_html(result_pre, raw=True)\n",
    "        finally:\n",
    "            progress_bar.layout = widgets.Layout(visibility=\"visible\")\n",
    "            progress_bar.value = 10\n",
    "            progress_bar.description = \"Done !\""
   ]
  },
  {
   "cell_type": "code",
   "execution_count": 51,
   "id": "1e2c9b54-64fd-453c-96d0-619d9c7b05b6",
   "metadata": {},
   "outputs": [],
   "source": [
    "button.on_click(generate_cff)"
   ]
  }
 ],
 "metadata": {
  "kernelspec": {
   "display_name": "Python 3 (ipykernel)",
   "language": "python",
   "name": "python3"
  },
  "language_info": {
   "codemirror_mode": {
    "name": "ipython",
    "version": 3
   },
   "file_extension": ".py",
   "mimetype": "text/x-python",
   "name": "python",
   "nbconvert_exporter": "python",
   "pygments_lexer": "ipython3",
   "version": "3.9.7"
  }
 },
 "nbformat": 4,
 "nbformat_minor": 5
}
